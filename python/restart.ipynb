{
 "cells": [
  {
   "cell_type": "markdown",
   "id": "31a210b3",
   "metadata": {},
   "source": [
    "# Restart"
   ]
  },
  {
   "cell_type": "markdown",
   "id": "bafdbed8",
   "metadata": {},
   "source": [
    "https://pypi.org/project/requests/  requests 原生文档我"
   ]
  },
  {
   "cell_type": "raw",
   "id": "a081781e",
   "metadata": {},
   "source": [
    "了解提示符in[ ]几种状态的含义：\n",
    "in[ ] 程序未运行\n",
    "in[*] 程序正在运行\n",
    "in[编号] 程序正在运行"
   ]
  },
  {
   "cell_type": "code",
   "execution_count": 2,
   "id": "2f3fd298",
   "metadata": {},
   "outputs": [
    {
     "name": "stdout",
     "output_type": "stream",
     "text": [
      "Jack\n"
     ]
    }
   ],
   "source": [
    "import requests\n",
    "name = 'Jack'\n",
    "print(name)"
   ]
  },
  {
   "cell_type": "code",
   "execution_count": 3,
   "id": "165f96ac",
   "metadata": {},
   "outputs": [
    {
     "name": "stdout",
     "output_type": "stream",
     "text": [
      "Jack\n"
     ]
    }
   ],
   "source": [
    "print(name)"
   ]
  },
  {
   "cell_type": "code",
   "execution_count": 8,
   "id": "423034a6",
   "metadata": {},
   "outputs": [
    {
     "name": "stdout",
     "output_type": "stream",
     "text": [
      "200\n"
     ]
    }
   ],
   "source": [
    "# 抓取网站上的图片\n",
    "def get_url():\n",
    "    response = requests.get('http://httpbin.org/ip')\n",
    "    print(response.status_code)\n",
    "\n",
    "get_url()"
   ]
  },
  {
   "cell_type": "code",
   "execution_count": 14,
   "id": "06a88b7d",
   "metadata": {},
   "outputs": [
    {
     "name": "stdout",
     "output_type": "stream",
     "text": [
      "success\n",
      "200\n"
     ]
    }
   ],
   "source": [
    "import requests\n",
    "response = requests.get('https://httpbin.org/ip')\n",
    "print('success')\n",
    "print(response.status_code)"
   ]
  },
  {
   "cell_type": "code",
   "execution_count": null,
   "id": "7907f93f",
   "metadata": {},
   "outputs": [],
   "source": []
  }
 ],
 "metadata": {
  "kernelspec": {
   "display_name": "Python 3 (ipykernel)",
   "language": "python",
   "name": "python3"
  },
  "language_info": {
   "codemirror_mode": {
    "name": "ipython",
    "version": 3
   },
   "file_extension": ".py",
   "mimetype": "text/x-python",
   "name": "python",
   "nbconvert_exporter": "python",
   "pygments_lexer": "ipython3",
   "version": "3.9.7"
  }
 },
 "nbformat": 4,
 "nbformat_minor": 5
}
